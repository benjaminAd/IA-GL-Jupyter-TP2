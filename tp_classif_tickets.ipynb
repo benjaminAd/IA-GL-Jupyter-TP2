{
 "cells": [
  {
   "cell_type": "code",
   "execution_count": 1,
   "metadata": {},
   "outputs": [],
   "source": [
    "import codecs\n",
    "import json\n",
    "import time\n",
    "\n",
    "import matplotlib.pyplot as plt\n",
    "import numpy as np\n",
    "from eli5.lime import TextExplainer\n",
    "from sklearn import metrics\n",
    "from sklearn.ensemble import RandomForestClassifier\n",
    "from sklearn.feature_extraction.text import TfidfVectorizer\n",
    "from sklearn.feature_selection import SelectKBest, chi2\n",
    "from sklearn.linear_model import LogisticRegression\n",
    "from sklearn.linear_model import RidgeClassifier\n",
    "from sklearn.metrics import ConfusionMatrixDisplay\n",
    "from sklearn.metrics import classification_report\n",
    "from sklearn.metrics import confusion_matrix\n",
    "from sklearn.model_selection import train_test_split, GridSearchCV\n",
    "from sklearn.naive_bayes import MultinomialNB\n",
    "from sklearn.pipeline import Pipeline\n",
    "from sklearn.pipeline import make_pipeline\n",
    "from sklearn.preprocessing import label_binarize\n",
    "from sklearn.svm import SVC"
   ]
  },
  {
   "cell_type": "markdown",
   "metadata": {},
   "source": [
    "### Chargement du dataset\n",
    "\n",
    "Fonction permettant l'ouverture d'un jeu de ticket sauvegardé au format json."
   ]
  },
  {
   "cell_type": "code",
   "execution_count": 2,
   "metadata": {},
   "outputs": [],
   "source": [
    "def load_dataset(json_path):\n",
    "    raw_data = []\n",
    "    with codecs.open(json_path, \"r\", \"utf-8\") as fin:\n",
    "        raw_data += json.load(fin)\n",
    "    return raw_data"
   ]
  },
  {
   "cell_type": "markdown",
   "metadata": {},
   "source": [
    "### Fonction de multiplication des titres des tickets\n",
    "\n",
    "Multiplication du titre des tickets par le facteur donné en paramètre. "
   ]
  },
  {
   "cell_type": "code",
   "execution_count": 3,
   "metadata": {},
   "outputs": [],
   "source": [
    "def multiply_title(dataset, factor):\n",
    "    for ticket in dataset:\n",
    "        for i in range(1, factor):\n",
    "            ticket[\"title\"] += \" \" + ticket[\"title\"]"
   ]
  },
  {
   "cell_type": "markdown",
   "metadata": {},
   "source": [
    "### Fonction de binarisation des labels\n",
    "\n",
    "Permet de convertir les labels \"NBUG\" et \"BUG\" en une information binaire 0 ou 1\n",
    "* 0 = NBUG\n",
    "* 1 = BUG"
   ]
  },
  {
   "cell_type": "code",
   "execution_count": 4,
   "metadata": {},
   "outputs": [],
   "source": [
    "def binarization_labels(labels):\n",
    "    return np.ravel(label_binarize(labels, classes=[\"NBUG\", \"BUG\"]))"
   ]
  },
  {
   "cell_type": "markdown",
   "metadata": {},
   "source": [
    "### Fonction de récupération du corpus et des étiquettes\n",
    "\n",
    "Cette fonction retourne deux tableaux :\n",
    "* Le premier est un tableau contenant les informations textuelles des tickets (pour chaque ticket, le title est concaténé au body)\n",
    "* Le second tableau contient les labels textuelles associées à chacun des tickets."
   ]
  },
  {
   "cell_type": "code",
   "execution_count": 5,
   "metadata": {},
   "outputs": [],
   "source": [
    "def get_corpus_labels(raw_data):\n",
    "    # Corpus building.\n",
    "    corpus = []\n",
    "    labels = []\n",
    "    n_bug = 0\n",
    "    for n_file in raw_data:\n",
    "        corpus.append(n_file[\"title\"] + \" \" + n_file[\"body\"])\n",
    "        labels.append(n_file[\"label\"])\n",
    "        if n_file[\"label\"] == \"BUG\":\n",
    "            n_bug += 1\n",
    "    print(f\"{n_bug} BUG / {len(labels)} \\n\")\n",
    "    return corpus, labels"
   ]
  },
  {
   "cell_type": "markdown",
   "metadata": {},
   "source": [
    "### Fonction d'évaluation d'un classifieur avec un train/test split\n",
    "\n",
    "Cette fonction permet l'évaluation d'un classifieur sur la base d'une division du jeu de données en 2 parties :\n",
    "* une partie dédiée à l'entraînement (partie dite _train_)\n",
    "* une partie dédiée au test du classifieur (partie dite _test_)\n",
    "Ici 77% des données du dataset sont destinées à l'entraînement et 33% au test du classifieur. \n",
    "La fonction calcule les mesures F1, rappel et précision. Elle dispose de 4 paramètres :\n",
    "* X : le corpus complet vectorisé\n",
    "* binarized_labels : la liste des labels binarisés\n",
    "* clf : le classifieur à évaluer"
   ]
  },
  {
   "cell_type": "code",
   "execution_count": 6,
   "metadata": {},
   "outputs": [],
   "source": [
    "def make_scoring_train_test_split(X, binarized_labels, clf, test_size=33):\n",
    "    X_train, X_test, y_train, y_test = train_test_split(X, binarized_labels, test_size=test_size, random_state=42)\n",
    "\n",
    "    start_time = time.time()\n",
    "    #scores = cross_val_score(clf, X, binarized_labels, cv=cv, scoring='f1')\n",
    "    print(\"--- Start training ---\", flush=True)\n",
    "    clf.fit(X_train, y_train)\n",
    "    print(\"--- %s seconds for training ---\" % (time.time() - start_time), flush=True)\n",
    "    y_pred = clf.predict(X_test)\n",
    "\n",
    "    recall = metrics.recall_score(y_test, y_pred)\n",
    "    f1 = metrics.f1_score(y_test, y_pred)\n",
    "    precision = metrics.precision_score(y_test, y_pred)\n",
    "\n",
    "    print(\"F1 score train/test: %0.3f\" % f1)\n",
    "    print(\"Recall score train/test: %0.3f\" % recall)\n",
    "    print(\"Precision score train/test: %0.3f\" % precision)\n",
    "    print()"
   ]
  },
  {
   "cell_type": "markdown",
   "metadata": {},
   "source": [
    "### Fonction de vectorisation et de calcul des features les plus représentatives\n",
    "Cette fonction prend 4 paramètres en entrée : \n",
    "* corpus : tableau d'éléments textuels extraits avec la fonction <code>get_corpus_labels</code>\n",
    "* labels : tableau de labels binarisés avec la fonction <code>binarization_labels</code>\n",
    "* vectorizer : objet vectorizer pour transformer le corpus \n",
    "* k_best : nombre de features représentatives du corpus à sélectionner à l'aide du chi-deux\n",
    "* print_feature_names : afficher ou non les features sélectionnées par le chi2\n",
    "\n",
    "\n",
    "Vous allez devoir compléter la fonction <code>feature_computing</code>, pour cela :\n",
    "1. Utilisez le vectorizer passé en paramètre afin de transformer les informations textuelles en informatiques mathématiques (vecteurs) utilisables par des classifieurs. Ces vecteurs sont créés à l'aide de la méthode _Term Frequency-Inverse Document Frequency_ ([wiki TF-IDF](https://fr.wikipedia.org/wiki/TF-IDF)) Pour cela référez vous à la fonction <code>fit_transform</code> ([documentation](https://scikit-learn.org/stable/modules/generated/sklearn.feature_extraction.text.TfidfVectorizer.html?highlight=tfidf#sklearn.feature_extraction.text.TfidfVectorizer.fit_transform)). Vous affecterez le retour de <code>fit_transform</code> à une variable nommée <code>X</code>. \n",
    "2. La seconde étape consiste à sélectionner les features les plus représentatives du corpus. Un moyen de faire cela est d'utiliser la méthode du Chi-deux. La méthode du chi deux va mesurer la dépendance entre une feature donnée et la classe (BUG ou NBUG) et ainsi vous permettre de sélectionner <code>k</code> features représentatives du corpus. Pour faire cela vous devez créer un objet <code>SelectKBest</code> que vous affecterez à la variable <code>ch2</code>. Vous pouvez vous inspirer de l'exemple donné dans la [documentation](https://scikit-learn.org/stable/modules/generated/sklearn.feature_selection.SelectKBest.html?highlight=selectkbest%20fit_transform).\n",
    "3. Utiliser la méthode <code>fit_transform</code> avec en paramètres <code>X</code> et les <code>labels</code>. Affectez le retour de cette méthode à la variable <code>X</code> \n",
    "\n",
    "Si vous souhaitez visualiser les features sélectionnées par le Chi2 vous pouvez passer la variable <code>print_feature_names</code> à True"
   ]
  },
  {
   "cell_type": "code",
   "execution_count": 7,
   "metadata": {},
   "outputs": [],
   "source": [
    "def feature_computing(corpus, binarized_labels, vectorizer, k_best=30000, print_feature_names=False):\n",
    "    # TF-IDF.\n",
    "    start_time = time.time()\n",
    "    print(\"--- Start feature computing ---\")\n",
    "    #Placer ici la ligne permettant de vectoriser le corpus avec fit_transform\n",
    "    X = vectorizer.fit_transform(corpus)\n",
    "    print(f\"\\t{X.shape[1]} features.\")\n",
    "\n",
    "    print(\"Extracting %d best features by a chi-squared test\" % k_best)\n",
    "    #Placer ici le code pour extraire les features\n",
    "    ch2 = SelectKBest(chi2)\n",
    "    X = ch2.fit_transform(X, binarized_labels)\n",
    "\n",
    "    if print_feature_names:  # keep selected feature names.\n",
    "        feature_names = vectorizer.get_feature_names()\n",
    "        feature_names = [feature_names[i] for i in ch2.get_support(indices=True)]\n",
    "        print(feature_names)\n",
    "\n",
    "    print(\"--- %s seconds for feature computing ---\" % (time.time() - start_time))\n",
    "    return X, vectorizer, ch2"
   ]
  },
  {
   "cell_type": "markdown",
   "metadata": {},
   "source": [
    "### Fonction de recherche d'un classifieur optimisé \n",
    "\n",
    "Dans cette fonction nous allons utiliser un algorithme nommé Grid-Search (type brute-force) permettant d'optimiser les paramètres d'un ou plusieurs classifieur(s) puis d'en comparer les performances. Nous allons comparer 5 types de classifieurs disponibles dans Scikit Learn :\n",
    "* Software Vector Machine (SVC ([documentation](https://scikit-learn.org/stable/modules/generated/sklearn.svm.SVC.html?highlight=svc#sklearn.svm.SVC))). Optimisation du paramètre <code>kernel</code> : ['linear','rbf']\n",
    "* LogisticRegression ([documentation](https://scikit-learn.org/stable/modules/generated/sklearn.linear_model.LogisticRegression.html?highlight=logisticregression#sklearn.linear_model.LogisticRegression)). Optimisation du paramètre <code>C</code> : [0.5,0.75,1]\n",
    "* MultinomialNB ([documentation](https://scikit-learn.org/stable/modules/generated/sklearn.naive_bayes.MultinomialNB.html?highlight=multinomialnb#sklearn.naive_bayes.MultinomialNB)). Pas d'optimisation de paramètre. \n",
    "* RandomForestClassifier ([documentation](https://scikit-learn.org/stable/modules/generated/sklearn.ensemble.RandomForestClassifier.html?highlight=randomforestclassifier#sklearn.ensemble.RandomForestClassifier)). Optimisation du paramètre <code>max_depth</code> :[5,10,15]\n",
    "* RidgeClassifier ([documentation](https://scikit-learn.org/stable/modules/generated/sklearn.linear_model.RidgeClassifier.html?highlight=ridgeclassifier#sklearn.linear_model.RidgeClassifier)) Optimisation du paramètre <code>alpha</code> : [0.5,0.75,1]\n",
    "\n",
    "**Attention** Certains de ces classifieurs utilisent de l'aléatoire. Il est donc nécessaire de fixer les graines à l'aide du paramètre <code>random_state</code>\n",
    "\n",
    "1. Nous allons utiliser un Pipeline dans lequel nous allons ajouter les dictionnaires contenant les classifieurs et leurs paramètres à ajuster. Pour cela vous allez vous pouvez vous inspirer du code suivant : \n",
    "```python\n",
    "# Créé un Pipeline pseudo vide (workaround pour pouvoir utiliser le pipeline avec plusieurs classifieurs)\n",
    "pipeline = Pipeline([\n",
    "    ('clf', UnClassifieur()),\n",
    "    ])\n",
    "\n",
    "# liste des dictionnaires des différents classifieurs et leurs paramètres à tester\n",
    "parameters = [\n",
    "        {\n",
    "            'clf': [UnClassifieur(random_state=0)],\n",
    "            'clf__myParamClassifieur': ['linear','rbf']\n",
    "        }\n",
    "]\n",
    "grid_search = GridSearchCV(pipeline, parameters, n_jobs=-1)\n",
    "```\n",
    "Dans le code plus haut le Pipeline est initialisé avec un classifieur. C'est un workaround car on ne peut pas créer de Pipeline vide. \n",
    "Nous allons utiliser ce Pipeline avec une liste (variable <code>parameters</code>) de dictionnaires contenant le classifieur à tester et ses paramètres. \n",
    "Dans le dictionnaire présenté plus haut :\n",
    "* <code>'clf'</code> est une liste contenant 1 seul élément, le classifieur à tester.\n",
    "* <code>'clf__myParamClassifieur'</code> permet à l'algorithme de tester le paramètres <myParamClassifieur> du classifieur testé <code>'clf'</code> \n",
    "\n",
    "Pour ajouter les classifieur à tester vous allez vous baser sur le meme principe, à savoir, rajouter des dictionnaires dans <code>parameters</code> avec \n",
    "<code>{'clf' : [mon_classif], 'clf__myPara' : [liste_param_à_tester]}</code>. Vous prendrez la liste des classifieurs/paramètres donnée plus haut dans ce bloc. \n",
    "\n",
    "2. Vous devrez ensuite créer un objet GridSearchCV ([documentation]()) avec en paramètres : <code>pipeline</code>, <code>parameters</code> et <code>n_jobs=-1</code> (pour obtenir un multi-threading sur l'ensemble des coeurs CPU disponibles).\n",
    "3. Vous utiliserez ensuite la méthode fit(X_train,y_train) sur l'objet GridSearch pour lancer la recherche du meilleur couple classifieurs/paramètres"
   ]
  },
  {
   "cell_type": "code",
   "execution_count": 8,
   "metadata": {},
   "outputs": [],
   "source": [
    "def grid_search_classifiers(X, binarized_labels):\n",
    "    #Séparation du jeu de données en 2. Une partie pour l'entrainement (X_train, y_train) et une partie pour l'évaluation (X_test, y_test)\n",
    "    X_train, X_test, y_train, y_test = train_test_split(X, binarized_labels, test_size=0.33, random_state=42)\n",
    "\n",
    "    print(\"--- Start grid-search ---\")\n",
    "    start_time = time.time()\n",
    "\n",
    "    #Placer ici le code avec le pipeline pour le Grid-Search\n",
    "    pipeline = Pipeline([('clf', SVC()),])\n",
    "    parameters = [{'clf': [SVC(random_state=0)], 'clf__kernel': ['linear', 'rbf']},\n",
    "                  {'clf': [LogisticRegression(random_state=0)], 'clf__C': [0.5, 0.75, 1]},\n",
    "                  {'clf': [MultinomialNB()]},\n",
    "                  {'clf': [RandomForestClassifier(random_state=0)], 'clf__max_depth': [5, 10, 15]},\n",
    "                  {'clf': [RidgeClassifier(random_state=0)], 'clf__alpha': [0.5, 0.75, 1]} ]\n",
    "    grid_search = GridSearchCV(pipeline,parameters, n_jobs=-1)\n",
    "    grid_search.fit(X_train,y_train)\n",
    "    print(\"Best parameters set found on development set:\")\n",
    "    print()\n",
    "    print(grid_search.best_params_)\n",
    "    print()\n",
    "    print(\"Grid scores on development set:\")\n",
    "    print()\n",
    "    means = grid_search.cv_results_[\"mean_test_score\"]\n",
    "    stds = grid_search.cv_results_[\"std_test_score\"]\n",
    "    for mean, std, params in zip(means, stds, grid_search.cv_results_[\"params\"]):\n",
    "        print(\"%0.3f (+/-%0.03f) for %r\" % (mean, std * 2, params))\n",
    "    print()\n",
    "\n",
    "    print(\"Detailed classification report:\")\n",
    "    print()\n",
    "    print(\"The model is trained on the full development set.\")\n",
    "    print(\"The scores are computed on the full evaluation set.\")\n",
    "    print()\n",
    "    y_true, y_pred = y_test, grid_search.predict(X_test)\n",
    "    print(classification_report(y_true, y_pred))\n",
    "    print()\n",
    "\n",
    "    print(\"--- %s seconds for grid-search ---\" % (time.time() - start_time))"
   ]
  },
  {
   "cell_type": "markdown",
   "metadata": {},
   "source": [
    "## Bloc principal d'exécution du Grid Search\n",
    "1. Chargement du jeu de données de Herzig et al. avec la méthode <code>load_dataset(\"dataset_herzig_etal.json\")</code>\n",
    "2. Multiplication du titre des tickets du dataset par un facteur 3 via la méthode <code>multiply_title</code>\n",
    "3. Extraction du corpus et des labels via la méthode <code>get_corpus_labels</code>\n",
    "3. Vectorisation à l'aide de TF-IDF. Pour cela, créez un objet Vectorizer à l'aide de <code>TfidfVectorizer(max_df=0.5, min_df=2, ngram_range=(1, 3), sublinear_tf=True, stop_words={'english'})</code>\n",
    "4. Sélection des features représentatives grâce à la méthode <code>feature_computing</code>\n",
    "5. Recherche d'un classifieur via la méthode <code>grid_search_classifiers</code>"
   ]
  },
  {
   "cell_type": "code",
   "execution_count": 9,
   "metadata": {},
   "outputs": [
    {
     "name": "stdout",
     "output_type": "stream",
     "text": [
      "1940 BUG / 5591 \n",
      "\n",
      "--- Start feature computing ---\n",
      "\t99349 features.\n",
      "Extracting 30000 best features by a chi-squared test\n",
      "--- 1.8270862102508545 seconds for feature computing ---\n",
      "--- Start grid-search ---\n",
      "Best parameters set found on development set:\n",
      "\n",
      "{'clf': SVC(random_state=0), 'clf__kernel': 'rbf'}\n",
      "\n",
      "Grid scores on development set:\n",
      "\n",
      "0.695 (+/-0.016) for {'clf': SVC(random_state=0), 'clf__kernel': 'linear'}\n",
      "0.732 (+/-0.019) for {'clf': SVC(random_state=0), 'clf__kernel': 'rbf'}\n",
      "0.671 (+/-0.010) for {'clf': LogisticRegression(random_state=0), 'clf__C': 0.5}\n",
      "0.689 (+/-0.014) for {'clf': LogisticRegression(random_state=0), 'clf__C': 0.75}\n",
      "0.691 (+/-0.016) for {'clf': LogisticRegression(random_state=0), 'clf__C': 1}\n",
      "0.648 (+/-0.001) for {'clf': MultinomialNB()}\n",
      "0.729 (+/-0.023) for {'clf': RandomForestClassifier(random_state=0), 'clf__max_depth': 5}\n",
      "0.729 (+/-0.023) for {'clf': RandomForestClassifier(random_state=0), 'clf__max_depth': 10}\n",
      "0.721 (+/-0.024) for {'clf': RandomForestClassifier(random_state=0), 'clf__max_depth': 15}\n",
      "0.717 (+/-0.027) for {'clf': RidgeClassifier(random_state=0), 'clf__alpha': 0.5}\n",
      "0.714 (+/-0.030) for {'clf': RidgeClassifier(random_state=0), 'clf__alpha': 0.75}\n",
      "0.711 (+/-0.028) for {'clf': RidgeClassifier(random_state=0), 'clf__alpha': 1}\n",
      "\n",
      "Detailed classification report:\n",
      "\n",
      "The model is trained on the full development set.\n",
      "The scores are computed on the full evaluation set.\n",
      "\n",
      "              precision    recall  f1-score   support\n",
      "\n",
      "           0       0.74      0.92      0.82      1225\n",
      "           1       0.69      0.35      0.47       621\n",
      "\n",
      "    accuracy                           0.73      1846\n",
      "   macro avg       0.71      0.64      0.64      1846\n",
      "weighted avg       0.72      0.73      0.70      1846\n",
      "\n",
      "\n",
      "--- 1.8806819915771484 seconds for grid-search ---\n"
     ]
    }
   ],
   "source": [
    "#Chargement du jeu de données JSON\n",
    "JSON_Path = \"dataset_herzig_etal.json\"\n",
    "dataset = load_dataset(JSON_Path)\n",
    "#Multiplication du titre par un facteur 3 (ajustable)\n",
    "multiply_title(dataset=dataset,factor=3)\n",
    "#Extraction du corpus de tickets et des étiquettes \n",
    "corpus,labels = get_corpus_labels(dataset)\n",
    "#Transformation des étiquettes textuelles en étiquettes binaires\n",
    "binarized_labels = binarization_labels(labels=labels)\n",
    "#Création d'un vectorizer \n",
    "vectorizer = TfidfVectorizer(max_df=0.5,min_df=2,ngram_range=(1,3),sublinear_tf=True,stop_words={'english'})\n",
    "#Extraction des features représentatives du corpus de tickets (ici 55000 features les plus réprésentatives)\n",
    "X, vectorizer, ch2 = feature_computing(corpus, binarized_labels, vectorizer)\n",
    "\n",
    "#Recherche du meilleur classifieur\n",
    "grid_search_classifiers(X=X,binarized_labels=binarized_labels)"
   ]
  },
  {
   "cell_type": "code",
   "execution_count": 10,
   "metadata": {},
   "outputs": [],
   "source": [
    "def make_scoring_train_test_split(X, binarized_labels, clf, test_size=33):\n",
    "    X_train, X_test, y_train, y_test = train_test_split(X, binarized_labels, test_size=test_size, random_state=42)\n",
    "\n",
    "    start_time = time.time()\n",
    "    #scores = cross_val_score(clf, X, binarized_labels, cv=cv, scoring='f1')\n",
    "    print(\"--- Start training ---\", flush=True)\n",
    "    clf.fit(X_train, y_train)\n",
    "    print(\"--- %s seconds for training ---\" % (time.time() - start_time), flush=True)\n",
    "    y_pred = clf.predict(X_test)\n",
    "\n",
    "    recall = metrics.recall_score(y_test, y_pred)\n",
    "    f1 = metrics.f1_score(y_test, y_pred)\n",
    "    precision = metrics.precision_score(y_test, y_pred)\n",
    "\n",
    "    print(\"F1 score train/test: %0.3f\" % f1)\n",
    "    print(\"Recall score train/test: %0.3f\" % recall)\n",
    "    print(\"Precision score train/test: %0.3f\" % precision)\n",
    "    print()"
   ]
  },
  {
   "cell_type": "markdown",
   "metadata": {},
   "source": [
    "## Échantillonage pour trouver un nombre de features optimal\n",
    "\n",
    "Nous allons maintenant échantillonner le nombre de feature afin de trouver un nombre qui permet de donner de bons résultats.  \n",
    "Pour cela nous allons faire varier le nombre de features entre 20000 et 90000.\n",
    "\n",
    "1. Chargement du jeu de données de Herzig et al. avec la méthode <code>load_dataset(\"dataset_herzig_etal.json\")</code>\n",
    "2. Multiplication du titre des tickets du dataset par un facteur 3 via la méthode <code>multiply_title</code>\n",
    "3. Extraction du corpus et des labels via la méthode <code>get_corpus_labels</code>\n",
    "4. Vectorisation à l'aide de TF-IDF. Pour cela, créez un objet Vectorizer à l'aide de <code>TfidfVectorizer(max_df=0.5, min_df=2, ngram_range=(1, 3), sublinear_tf=True, stop_words={'english'})</code>\n",
    "5. Création du classifieur, sélectionner le meilleur couple classifieur/paramètres retourné par Grid-Search précédemment\n",
    "6.Échantillonage du nombre de features par pas de 5000 entre 30000 et 60000, dans la boucle faire :\n",
    "* calcul des features à l'aide de <code>feature_computing</code>\n",
    "* le scoring à l'aide de la méthode <code>make_scoring_train_test_split</code>\n",
    "\n",
    "En cas d'égalité des scores F1 entre différents nombre de features, vous conserverez la valeur du plus grand nombre de features parmi les meilleurs scores."
   ]
  },
  {
   "cell_type": "code",
   "execution_count": 11,
   "metadata": {},
   "outputs": [],
   "source": [
    "#Chargement du jeu de données JSON\n",
    "\n",
    "#Multiplication du titre par un facteur 3 (ajustable)\n",
    "\n",
    "#Extraction du corpus de tickets et des étiquettes \n",
    "\n",
    "#Transformation des étiquettes textuelles en étiquettes binaires\n",
    "\n",
    "#Création d'un vectorizer Tf-Idf\n",
    "\n",
    "#Création du classifieur\n",
    "\n",
    "#Boucle for avec calcul des features et scoring\n",
    "\n"
   ]
  },
  {
   "cell_type": "markdown",
   "metadata": {},
   "source": [
    "### Création de la matrice de confusion \n",
    "\n",
    "Nous allons maintenant créer la matrice de confusion correspondant à notre classifieur. Cette matrice permet de visualiser graphiquement la qualité de la classification effectuée par notre classifieur. La matrice de confusion recense le nombre de :\n",
    "* vrais positifs (VP)\n",
    "* vrais négatifs (VN)\n",
    "* faux positifs (FP)\n",
    "* faux négatifs (FN)\n",
    "Cette matrice est un indicateur de la qualité de votre classifieur. Plus le nombre de FP et FN est réduit meilleure est la classification. \n",
    "\n",
    "Pour créer cette matrice il vous faut : \n",
    "1. Comme dans les blocs de code précédent charger le jeu, multiplier le titre, extraire le corpus et les labels puis binariser les labels\n",
    "2. Extraire les <code>k</code> meilleures features en fonction de l'échantillonnage fait plus haut (méthode <code>feature_computing</code>)\n",
    "3. Utiliser la meilleure configuration de classifieur calculée avec Grid-Search \n",
    "4. Entraîner ce classifieur à l'aide de la méthode <code>fit</code> avec <code>X_train</code> et <code>y_train</code>\n",
    "5. Faire des prédictions à l'aide de la méthode <code>predict</code> de votre classifieur\n",
    "\n",
    "Pour cela, vous pouvez vous inspirer de l'exemple donné ici : [https://scikit-learn.org/stable/modules/generated/sklearn.metrics.ConfusionMatrixDisplay.html](https://scikit-learn.org/stable/modules/generated/sklearn.metrics.ConfusionMatrixDisplay.html)"
   ]
  },
  {
   "cell_type": "code",
   "execution_count": 12,
   "metadata": {},
   "outputs": [],
   "source": [
    "#Chargement du jeu de données JSON\n",
    "\n",
    "#Multiplication du titre par un facteur 3 (ajustable)\n",
    "\n",
    "#Extraction du corpus de tickets et des étiquettes \n",
    "\n",
    "#Transformation des étiquettes textuelles en étiquettes binaires\n",
    "\n",
    "#Création du vectorizer TF-IDF et sélection des k-best features avec feature_computing\n",
    "\n",
    "\n",
    "X_train, X_test, y_train, y_test = train_test_split(X, binarized_labels, test_size=0.33, random_state=42)\n",
    "\n",
    "#Création du classifieur, entrainement avec X_train, y_train et prédiction avec X_test\n",
    "\n",
    "#affichage de la matrice de confusion ConfusionMatrixDisplay\n",
    "\n",
    "plt.show()\n"
   ]
  },
  {
   "cell_type": "markdown",
   "metadata": {},
   "source": [
    "### Explicabilité du classifieur\n",
    "\n",
    "Un des défis lié à l'IA et aux algorithmes à trait à leur explicabilité. L'explicabilité se définie comme le fait de pouvoir comprendre les mécanismes internes du classifieur qui fondent une ou plusieurs prédictions. Cette explicabilité peut se faire de manière globale (mécanismes internes du classifieur qui conduisent à la classification) ou de manière locale (mécanisme qui conduisent à la classification d'une instance). \n",
    "\n",
    "Nous allons expliquer la classification de 4 tickets : \n",
    "* 2 tickets sont des faux positifs (indices 3997 et 5098 dans le dataset de tickets)\n",
    "* 2 tickets sont des faux négatifs (indices 2656 et 3479 dans le dataset de tickets)\n",
    "\n",
    "Pour expliquer les mots impactant la classification des tickets nous allons utiliser une méthode d'explication se nommant Lime située dans le package Python [eli5](https://eli5.readthedocs.io/en/latest/index.html). \n",
    "Pour cela vous pouvez vous inspirer de l'exemple donner dans la documentation de eli5 : [https://eli5.readthedocs.io/en/latest/tutorials/black-box-text-classifiers.html#textexplainer](https://eli5.readthedocs.io/en/latest/tutorials/black-box-text-classifiers.html#textexplainer)\n",
    "\n",
    "**Attention** avant d'exécuter le code suivant, veillez à avoir exécuté le code du bloc précédent (code de matrice de confusion)"
   ]
  },
  {
   "cell_type": "code",
   "execution_count": 13,
   "metadata": {},
   "outputs": [
    {
     "ename": "NameError",
     "evalue": "name 'clf' is not defined",
     "output_type": "error",
     "traceback": [
      "\u001B[0;31m---------------------------------------------------------------------------\u001B[0m",
      "\u001B[0;31mNameError\u001B[0m                                 Traceback (most recent call last)",
      "\u001B[0;32m/var/folders/bd/v_l7h6rd2jn557t82_s39fxm0000gn/T/ipykernel_48619/1739381521.py\u001B[0m in \u001B[0;36m<module>\u001B[0;34m\u001B[0m\n\u001B[1;32m      1\u001B[0m \u001B[0;31m#Pipeline et vectorizer nécessaire pour le TextExplainer\u001B[0m\u001B[0;34m\u001B[0m\u001B[0;34m\u001B[0m\u001B[0;34m\u001B[0m\u001B[0m\n\u001B[0;32m----> 2\u001B[0;31m \u001B[0mpipe\u001B[0m \u001B[0;34m=\u001B[0m \u001B[0mmake_pipeline\u001B[0m\u001B[0;34m(\u001B[0m\u001B[0mvectorizer\u001B[0m\u001B[0;34m,\u001B[0m \u001B[0mch2\u001B[0m\u001B[0;34m,\u001B[0m \u001B[0mclf\u001B[0m\u001B[0;34m)\u001B[0m\u001B[0;34m\u001B[0m\u001B[0;34m\u001B[0m\u001B[0m\n\u001B[0m\u001B[1;32m      3\u001B[0m vectorizer_for_text_explainer = TfidfVectorizer(min_df=1, max_df=1.0, ngram_range=(1, 3), sublinear_tf=True,\n\u001B[1;32m      4\u001B[0m                                                 stop_words={'english'})\n\u001B[1;32m      5\u001B[0m \u001B[0;34m\u001B[0m\u001B[0m\n",
      "\u001B[0;31mNameError\u001B[0m: name 'clf' is not defined"
     ]
    }
   ],
   "source": [
    "#Pipeline et vectorizer nécessaire pour le TextExplainer\n",
    "pipe = make_pipeline(vectorizer, ch2, clf)\n",
    "vectorizer_for_text_explainer = TfidfVectorizer(min_df=1, max_df=1.0, ngram_range=(1, 3), sublinear_tf=True,\n",
    "                                                stop_words={'english'})\n",
    "\n",
    "#Placez ici le code du text explainer pour le ticket 5098 (ticket_dataset[5098][\"title\"] + ticket_dataset[5098][\"body\"])\n"
   ]
  },
  {
   "cell_type": "markdown",
   "metadata": {},
   "source": [
    "Placez ci-dessous le code du text explainer pour le ticket 3997 (faux positif)"
   ]
  },
  {
   "cell_type": "code",
   "execution_count": null,
   "metadata": {},
   "outputs": [],
   "source": []
  },
  {
   "cell_type": "markdown",
   "metadata": {},
   "source": [
    "Placez ci-dessous le code du text explainer pour le ticket 2656 (faux négatif)"
   ]
  },
  {
   "cell_type": "code",
   "execution_count": null,
   "metadata": {},
   "outputs": [],
   "source": []
  },
  {
   "cell_type": "markdown",
   "metadata": {},
   "source": [
    "Placez ci-dessous le code du text explainer pour le ticket 3479 (faux négatif)"
   ]
  },
  {
   "cell_type": "code",
   "execution_count": null,
   "metadata": {},
   "outputs": [],
   "source": []
  }
 ],
 "metadata": {
  "interpreter": {
   "hash": "604fa18f26e0fae5824a25e5208a65f3bd7a50a3ed33678f9d75b9937a80ef56"
  },
  "kernelspec": {
   "name": "python3",
   "language": "python",
   "display_name": "Python 3 (ipykernel)"
  },
  "language_info": {
   "codemirror_mode": {
    "name": "ipython",
    "version": 3
   },
   "file_extension": ".py",
   "mimetype": "text/x-python",
   "name": "python",
   "nbconvert_exporter": "python",
   "pygments_lexer": "ipython3",
   "version": "3.9.7"
  },
  "orig_nbformat": 4
 },
 "nbformat": 4,
 "nbformat_minor": 2
}